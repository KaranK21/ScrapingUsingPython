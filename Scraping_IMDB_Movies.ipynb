{
  "nbformat": 4,
  "nbformat_minor": 0,
  "metadata": {
    "colab": {
      "name": "Scraping IMDB Movies.ipynb",
      "provenance": [],
      "collapsed_sections": []
    },
    "kernelspec": {
      "name": "python3",
      "display_name": "Python 3"
    },
    "language_info": {
      "name": "python"
    }
  },
  "cells": [
    {
      "cell_type": "markdown",
      "metadata": {
        "id": "sJMXrkrc806Z"
      },
      "source": [
        "\n",
        "\n",
        "```\n",
        "*# Scraping Top Movies from IMBD Website*\n",
        "```\n",
        "\n"
      ]
    },
    {
      "cell_type": "code",
      "metadata": {
        "id": "D2VEv8p68zkS"
      },
      "source": [
        "#importing required Libraries\n",
        "import pandas as pd   #to create dataframe\n",
        "import requests       #to send the request to the URL\n",
        "from bs4 import BeautifulSoup #to get the content in the form of HTML\n",
        "import numpy as np  # to count the values (in this case)"
      ],
      "execution_count": 1,
      "outputs": []
    },
    {
      "cell_type": "code",
      "metadata": {
        "id": "cvZ6SpPd8_NN"
      },
      "source": [
        "#assigning the URL with variable name url\n",
        "url = 'https://www.imdb.com/search/title/?count=100&groups=top_1000&sort=user_rating'"
      ],
      "execution_count": 2,
      "outputs": []
    },
    {
      "cell_type": "code",
      "metadata": {
        "id": "VxPKbypy9CE7"
      },
      "source": [
        "#request allow you to send HTTP request\n",
        "response = requests.get(url)\n",
        "soup = BeautifulSoup(response.content, 'html.parser')"
      ],
      "execution_count": 3,
      "outputs": []
    },
    {
      "cell_type": "code",
      "metadata": {
        "id": "Dlbp7yGN9ETI"
      },
      "source": [
        "#creating an empty list, so that we can append the values\n",
        "movie_name = []\n",
        "year = []\n",
        "time = []\n",
        "rating = []\n",
        "metascore = []\n",
        "votes = []\n",
        "gross = []\n",
        "description = []\n",
        "Director = []\n",
        "Stars = []"
      ],
      "execution_count": 4,
      "outputs": []
    },
    {
      "cell_type": "code",
      "metadata": {
        "id": "3KU8ecac9G8y"
      },
      "source": [
        "#storing the meaningfull required data in the variable\n",
        "movie_data = soup.findAll('div', attrs= {'class': 'lister-item mode-advanced'})"
      ],
      "execution_count": 5,
      "outputs": []
    },
    {
      "cell_type": "code",
      "metadata": {
        "id": "UYdpuoYN9JRQ"
      },
      "source": [
        "#calling one by one using for loop\n",
        "for store in movie_data:\n",
        "    name = store.h3.a.text\n",
        "    movie_name.append(name)\n",
        "    \n",
        "    year_of_release = store.h3.find('span', class_ = 'lister-item-year text-muted unbold').text.replace('(', '').replace(')', '')\n",
        "    year.append(year_of_release)\n",
        "    \n",
        "    runtime = store.p.find('span', class_ = 'runtime').text.replace(' min', '')\n",
        "    time.append(runtime)\n",
        "    \n",
        "    rate = store.find('div', class_ = 'inline-block ratings-imdb-rating').text.replace('\\n', '')\n",
        "    rating.append(rate)\n",
        "    \n",
        "    meta  = store.find('span', class_ = 'metascore').text.replace(' ', '') if store.find('span', class_ = 'metascore') else '^^^^^^'\n",
        "    metascore.append(meta)\n",
        "\n",
        "    #since, gross and votes have same attributes, that's why we had created a common variable and then used indexing\n",
        "    value = store.find_all('span', attrs = {'name': 'nv'})\n",
        "    \n",
        "    vote = value[0].text\n",
        "    votes.append(vote)\n",
        "    \n",
        "    grosses = value[1].text if len(value) >1 else '*****'\n",
        "    gross.append(grosses)\n",
        "    \n",
        "    # Description of the Movies \n",
        "    describe = store.find_all('p', class_ = 'text-muted')\n",
        "    description_ = describe[1].text.replace('\\n', '') if len(describe) >1 else '*****'\n",
        "    description.append(description_)\n",
        "    \n",
        "    #Cast Details\n",
        "    cast = store.find(\"p\", class_ = '')\n",
        "    cast = cast.text.replace('\\n', '').split('|')\n",
        "    cast = [x.strip() for x in cast]\n",
        "    cast = [cast[i].replace(j, \"\") for i,j in enumerate([\"Director:\", \"Stars:\"])]\n",
        "    Director.append(cast[0])\n",
        "    Stars.append([x.strip() for x in cast[1].split(\",\")])\n",
        "    \n",
        "    \n",
        "#creating a dataframe using pandas library\n",
        "movie_DF = pd.DataFrame({'Name of movie': movie_name, 'Year of relase': year, 'Watchtime': time, 'Movie Rating': rating, 'Metascore': metascore, 'Votes': votes, 'Gross collection': gross, 'Description': description, \"Director\": Director, 'Star': Stars})"
      ],
      "execution_count": 6,
      "outputs": []
    },
    {
      "cell_type": "code",
      "metadata": {
        "id": "7klWpWPL9M4v"
      },
      "source": [
        "#Saving data in Excel file:\n",
        "#movie_DF.to_excel(\"IMDB_TopMovies.xlsx\")"
      ],
      "execution_count": 7,
      "outputs": []
    },
    {
      "cell_type": "code",
      "metadata": {
        "colab": {
          "base_uri": "https://localhost:8080/",
          "height": 306
        },
        "id": "_VjfKdhG9PLX",
        "outputId": "fb42b147-5177-4a1a-cc14-4d2363260852"
      },
      "source": [
        "movie_DF.head()"
      ],
      "execution_count": 9,
      "outputs": [
        {
          "output_type": "execute_result",
          "data": {
            "text/html": [
              "<div>\n",
              "<style scoped>\n",
              "    .dataframe tbody tr th:only-of-type {\n",
              "        vertical-align: middle;\n",
              "    }\n",
              "\n",
              "    .dataframe tbody tr th {\n",
              "        vertical-align: top;\n",
              "    }\n",
              "\n",
              "    .dataframe thead th {\n",
              "        text-align: right;\n",
              "    }\n",
              "</style>\n",
              "<table border=\"1\" class=\"dataframe\">\n",
              "  <thead>\n",
              "    <tr style=\"text-align: right;\">\n",
              "      <th></th>\n",
              "      <th>Name of movie</th>\n",
              "      <th>Year of relase</th>\n",
              "      <th>Watchtime</th>\n",
              "      <th>Movie Rating</th>\n",
              "      <th>Metascore</th>\n",
              "      <th>Votes</th>\n",
              "      <th>Gross collection</th>\n",
              "      <th>Description</th>\n",
              "      <th>Director</th>\n",
              "      <th>Star</th>\n",
              "    </tr>\n",
              "  </thead>\n",
              "  <tbody>\n",
              "    <tr>\n",
              "      <th>0</th>\n",
              "      <td>The Shawshank Redemption</td>\n",
              "      <td>1994</td>\n",
              "      <td>142</td>\n",
              "      <td>9.3</td>\n",
              "      <td>80</td>\n",
              "      <td>2,436,675</td>\n",
              "      <td>$28.34M</td>\n",
              "      <td>Two imprisoned men bond over a number of years...</td>\n",
              "      <td>R</td>\n",
              "      <td>[142 min]</td>\n",
              "    </tr>\n",
              "    <tr>\n",
              "      <th>1</th>\n",
              "      <td>The Godfather</td>\n",
              "      <td>1972</td>\n",
              "      <td>175</td>\n",
              "      <td>9.2</td>\n",
              "      <td>100</td>\n",
              "      <td>1,686,837</td>\n",
              "      <td>$134.97M</td>\n",
              "      <td>An organized crime dynasty's aging patriarch t...</td>\n",
              "      <td>R</td>\n",
              "      <td>[175 min]</td>\n",
              "    </tr>\n",
              "    <tr>\n",
              "      <th>2</th>\n",
              "      <td>Soorarai Pottru</td>\n",
              "      <td>2020</td>\n",
              "      <td>153</td>\n",
              "      <td>9.1</td>\n",
              "      <td>^^^^^^</td>\n",
              "      <td>86,407</td>\n",
              "      <td>*****</td>\n",
              "      <td>Nedumaaran Rajangam \"Maara\" sets out to make t...</td>\n",
              "      <td>TV-MA</td>\n",
              "      <td>[153 min]</td>\n",
              "    </tr>\n",
              "    <tr>\n",
              "      <th>3</th>\n",
              "      <td>The Dark Knight</td>\n",
              "      <td>2008</td>\n",
              "      <td>152</td>\n",
              "      <td>9.0</td>\n",
              "      <td>84</td>\n",
              "      <td>2,392,203</td>\n",
              "      <td>$534.86M</td>\n",
              "      <td>When the menace known as the Joker wreaks havo...</td>\n",
              "      <td>PG-13</td>\n",
              "      <td>[152 min]</td>\n",
              "    </tr>\n",
              "    <tr>\n",
              "      <th>4</th>\n",
              "      <td>The Godfather: Part II</td>\n",
              "      <td>1974</td>\n",
              "      <td>202</td>\n",
              "      <td>9.0</td>\n",
              "      <td>90</td>\n",
              "      <td>1,171,187</td>\n",
              "      <td>$57.30M</td>\n",
              "      <td>The early life and career of Vito Corleone in ...</td>\n",
              "      <td>R</td>\n",
              "      <td>[202 min]</td>\n",
              "    </tr>\n",
              "  </tbody>\n",
              "</table>\n",
              "</div>"
            ],
            "text/plain": [
              "              Name of movie Year of relase  ... Director       Star\n",
              "0  The Shawshank Redemption           1994  ...        R  [142 min]\n",
              "1             The Godfather           1972  ...        R  [175 min]\n",
              "2           Soorarai Pottru           2020  ...    TV-MA  [153 min]\n",
              "3           The Dark Knight           2008  ...    PG-13  [152 min]\n",
              "4    The Godfather: Part II           1974  ...        R  [202 min]\n",
              "\n",
              "[5 rows x 10 columns]"
            ]
          },
          "metadata": {
            "tags": []
          },
          "execution_count": 9
        }
      ]
    }
  ]
}